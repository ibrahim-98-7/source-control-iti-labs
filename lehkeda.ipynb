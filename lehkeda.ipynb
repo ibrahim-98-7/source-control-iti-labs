{
 "cells": [
  {
   "cell_type": "code",
   "execution_count": null,
   "id": "b74e591e",
   "metadata": {
    "vscode": {
     "languageId": "plaintext"
    }
   },
   "outputs": [],
   "source": [
    "sam = asdassadsaddas\n",
    "leh = sam\n",
    "sam = hima"
   ]
  },
  {
   "cell_type": "code",
   "execution_count": null,
   "id": "122054d8",
   "metadata": {
    "vscode": {
     "languageId": "plaintext"
    }
   },
   "outputs": [],
   "source": []
  }
 ],
 "metadata": {
  "language_info": {
   "name": "python"
  }
 },
 "nbformat": 4,
 "nbformat_minor": 5
}
